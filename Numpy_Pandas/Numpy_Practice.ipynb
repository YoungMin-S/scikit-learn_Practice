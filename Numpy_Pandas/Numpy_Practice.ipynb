{
 "cells": [
  {
   "cell_type": "markdown",
   "id": "1d89d232",
   "metadata": {},
   "source": [
    "### Numpy ndarray개요"
   ]
  },
  {
   "cell_type": "code",
   "execution_count": 1,
   "id": "91e379cd",
   "metadata": {},
   "outputs": [],
   "source": [
    "import numpy as np"
   ]
  },
  {
   "cell_type": "code",
   "execution_count": 2,
   "id": "f2ebc81e",
   "metadata": {},
   "outputs": [
    {
     "name": "stdout",
     "output_type": "stream",
     "text": [
      "list1 type <class 'list'>\n",
      "array1 type :  <class 'numpy.ndarray'>\n",
      "array1 array 형태 :  (3,)\n",
      "array2 type :  <class 'numpy.ndarray'>\n",
      "array2 array 형태 : (2, 3)\n",
      "array3 type :  <class 'numpy.ndarray'>\n",
      "array3 array 형태 : (1, 3)\n"
     ]
    }
   ],
   "source": [
    "list1=[1,2,3]\n",
    "print('list1 type',type(list1))\n",
    "array1 = np.array([1,2,3])\n",
    "print('array1 type : ',type(array1))\n",
    "print('array1 array 형태 : ',array1.shape)\n",
    "\n",
    "array2 = np.array([[1,2,3],\n",
    "                   [2,3,4]])\n",
    "print('array2 type : ',type(array2))\n",
    "print('array2 array 형태 :',array2.shape)\n",
    "\n",
    "array3 = np.array([[1,2,3]])\n",
    "print('array3 type : ',type(array3))\n",
    "print('array3 array 형태 :',array3.shape)\n"
   ]
  },
  {
   "cell_type": "code",
   "execution_count": 3,
   "id": "08ce0959",
   "metadata": {},
   "outputs": [
    {
     "name": "stdout",
     "output_type": "stream",
     "text": [
      "array1 : 1차원, array2 2차원, array3  2차원\n"
     ]
    }
   ],
   "source": [
    "print('array1 : {:0}차원, array2 {:1}차원, array3 {:2}차원'.format(array1.ndim,array2.ndim,array3.ndim))"
   ]
  },
  {
   "cell_type": "markdown",
   "id": "b799c50f",
   "metadata": {},
   "source": [
    "### ndarray의 데이터 타입"
   ]
  },
  {
   "cell_type": "code",
   "execution_count": 4,
   "id": "c85efef2",
   "metadata": {},
   "outputs": [
    {
     "name": "stdout",
     "output_type": "stream",
     "text": [
      "<class 'list'>\n",
      "<class 'numpy.ndarray'>\n",
      "[1 2 3] int64\n"
     ]
    }
   ],
   "source": [
    "list1 = [1,2,3]\n",
    "print(type(list1))\n",
    "array1 = np.array(list1)\n",
    "print(type(array1))\n",
    "print(array1,array1.dtype)"
   ]
  },
  {
   "cell_type": "code",
   "execution_count": 5,
   "id": "6b81f9d7",
   "metadata": {},
   "outputs": [
    {
     "name": "stdout",
     "output_type": "stream",
     "text": [
      "['1' '2' 'test'] <U21\n",
      "[1. 2. 3.] float64\n"
     ]
    }
   ],
   "source": [
    "list2=[1,2,'test']\n",
    "array2=np.array(list2)\n",
    "print(array2,array2.dtype)\n",
    "\n",
    "list3=[1,2,3.0]\n",
    "array3 = np.array(list3)\n",
    "print(array3,array3.dtype)"
   ]
  },
  {
   "cell_type": "code",
   "execution_count": 6,
   "id": "929de1fe",
   "metadata": {},
   "outputs": [
    {
     "name": "stdout",
     "output_type": "stream",
     "text": [
      "[1. 2. 3.] float64\n",
      "[1 2 3] int32\n",
      "[1 2 3] int32\n"
     ]
    }
   ],
   "source": [
    "array_int = np.array([1,2,3])\n",
    "array_float = array_int.astype('float64')\n",
    "print(array_float,array_float.dtype)\n",
    "\n",
    "array_int1 = array_float.astype('int32')\n",
    "print(array_int1,array_int1.dtype)\n",
    "\n",
    "array_float1 = np.array([1.1,2.1,3.1])\n",
    "array_int2=array_float1.astype('int32')\n",
    "print(array_int2,array_int2.dtype)"
   ]
  },
  {
   "cell_type": "markdown",
   "id": "510905c8",
   "metadata": {},
   "source": [
    "### ndarray를 편리하게 생성하기 - arange,zeros,ones"
   ]
  },
  {
   "cell_type": "code",
   "execution_count": 7,
   "id": "6c91db11",
   "metadata": {},
   "outputs": [
    {
     "name": "stdout",
     "output_type": "stream",
     "text": [
      "[0 1 2 3 4 5 6 7 8 9]\n",
      "int64 (10,)\n"
     ]
    }
   ],
   "source": [
    "sequence_array=np.arange(10)\n",
    "print(sequence_array)\n",
    "print(sequence_array.dtype,sequence_array.shape)"
   ]
  },
  {
   "cell_type": "code",
   "execution_count": 8,
   "id": "64fa476c",
   "metadata": {},
   "outputs": [
    {
     "name": "stdout",
     "output_type": "stream",
     "text": [
      "[[0 0]\n",
      " [0 0]\n",
      " [0 0]]\n",
      "int32 (3, 2)\n",
      "[[1. 1.]\n",
      " [1. 1.]\n",
      " [1. 1.]]\n",
      "float64 (3, 2)\n"
     ]
    }
   ],
   "source": [
    "#(3,2)shape을 가지는 모든 원소가 0,dtype은 int32인 ndarray생성.\n",
    "zero_array = np.zeros((3,2),dtype='int32')\n",
    "print(zero_array)\n",
    "print(zero_array.dtype,zero_array.shape)\n",
    "\n",
    "#(3,2)shape을 가지는 모든 원소가 1인 ndarray생성\n",
    "one_array = np.ones((3,2))\n",
    "print(one_array)\n",
    "print(one_array.dtype,one_array.shape)"
   ]
  },
  {
   "cell_type": "markdown",
   "id": "13939f02",
   "metadata": {},
   "source": [
    "### ndarray의 차원과 크기를 변경하는 reshape"
   ]
  },
  {
   "cell_type": "code",
   "execution_count": 9,
   "id": "2213e2e2",
   "metadata": {},
   "outputs": [
    {
     "name": "stdout",
     "output_type": "stream",
     "text": [
      "array1 : \n",
      " [0 1 2 3 4 5 6 7 8 9]\n",
      "array2 : \n",
      " [[0 1 2 3 4]\n",
      " [5 6 7 8 9]]\n",
      "array3 : \n",
      " [[0 1]\n",
      " [2 3]\n",
      " [4 5]\n",
      " [6 7]\n",
      " [8 9]]\n"
     ]
    }
   ],
   "source": [
    "array1 = np.arange(10)\n",
    "print('array1 : \\n',array1)\n",
    "\n",
    "#(2,5) shape으로 변환\n",
    "array2 = array1.reshape(2,5)\n",
    "print('array2 : \\n',array2)\n",
    "\n",
    "#(5,2) shape으로 변환\n",
    "array3 = array2.reshape(5,2)\n",
    "print('array3 : \\n',array3)"
   ]
  },
  {
   "cell_type": "code",
   "execution_count": 10,
   "id": "290cb52a",
   "metadata": {},
   "outputs": [
    {
     "ename": "ValueError",
     "evalue": "cannot reshape array of size 10 into shape (4,3)",
     "output_type": "error",
     "traceback": [
      "\u001b[0;31m---------------------------------------------------------------------------\u001b[0m",
      "\u001b[0;31mValueError\u001b[0m                                Traceback (most recent call last)",
      "Cell \u001b[0;32mIn[10], line 1\u001b[0m\n\u001b[0;32m----> 1\u001b[0m array1\u001b[38;5;241m.\u001b[39mreshape(\u001b[38;5;241m4\u001b[39m,\u001b[38;5;241m3\u001b[39m)\n",
      "\u001b[0;31mValueError\u001b[0m: cannot reshape array of size 10 into shape (4,3)"
     ]
    }
   ],
   "source": [
    "array1.reshape(4,3)"
   ]
  },
  {
   "cell_type": "code",
   "execution_count": 11,
   "id": "3fc283f0",
   "metadata": {},
   "outputs": [
    {
     "name": "stdout",
     "output_type": "stream",
     "text": [
      "array1 :  [0 1 2 3 4 5 6 7 8 9]\n",
      "array2.shape : (2, 5)\n",
      "array3.shape :  (5, 2)\n"
     ]
    }
   ],
   "source": [
    "array1 = np.arange(10)\n",
    "print('array1 : ',array1)\n",
    "\n",
    "#(2,5) shape으로 변환\n",
    "array2 = array1.reshape(-1,5)\n",
    "print('array2.shape :',array2.shape)\n",
    "\n",
    "#(5,2) shape으로 변환\n",
    "array3 = array2.reshape(5,-1)\n",
    "print('array3.shape : ',array3.shape)"
   ]
  },
  {
   "cell_type": "code",
   "execution_count": 12,
   "id": "c224f243",
   "metadata": {},
   "outputs": [
    {
     "ename": "ValueError",
     "evalue": "cannot reshape array of size 10 into shape (4)",
     "output_type": "error",
     "traceback": [
      "\u001b[0;31m---------------------------------------------------------------------------\u001b[0m",
      "\u001b[0;31mValueError\u001b[0m                                Traceback (most recent call last)",
      "Cell \u001b[0;32mIn[12], line 2\u001b[0m\n\u001b[1;32m      1\u001b[0m array1 \u001b[38;5;241m=\u001b[39m np\u001b[38;5;241m.\u001b[39marange(\u001b[38;5;241m10\u001b[39m)\n\u001b[0;32m----> 2\u001b[0m array4 \u001b[38;5;241m=\u001b[39m array1\u001b[38;5;241m.\u001b[39mreshape(\u001b[38;5;241m-\u001b[39m\u001b[38;5;241m1\u001b[39m,\u001b[38;5;241m4\u001b[39m)\n",
      "\u001b[0;31mValueError\u001b[0m: cannot reshape array of size 10 into shape (4)"
     ]
    }
   ],
   "source": [
    "array1 = np.arange(10)\n",
    "array4 = array1.reshape(-1,4)"
   ]
  },
  {
   "cell_type": "code",
   "execution_count": 13,
   "id": "7c78f5da",
   "metadata": {},
   "outputs": [
    {
     "name": "stdout",
     "output_type": "stream",
     "text": [
      "array3d:\n",
      " [[[0, 1], [2, 3]], [[4, 5], [6, 7]]]\n",
      "array5:\n",
      " [[0], [1], [2], [3], [4], [5], [6], [7]]\n",
      "array5.shape :  (8, 1)\n",
      "array6 \n",
      ": [[0], [1], [2], [3], [4], [5], [6], [7]]\n",
      "array6.shape :  (8, 1)\n"
     ]
    }
   ],
   "source": [
    "array1 = np.arange(8)\n",
    "array3d = array1.reshape(2,2,2)\n",
    "print('array3d:\\n',array3d.tolist())\n",
    "\n",
    "# 3차원 ndarray를 2차원 ndarray로 변환하되 칼럼 갯수는 1\n",
    "array5 = array3d.reshape(-1,1)\n",
    "print('array5:\\n',array5.tolist())\n",
    "print('array5.shape : ',array5.shape)\n",
    "\n",
    "# 1차원 ndarray를 2차원 ndarray로 변환하되 칼럼 갯수는 1\n",
    "array6 = array1.reshape(-1,1)\n",
    "print('array6 \\n:',array6.tolist())\n",
    "print('array6.shape : ',array6.shape)\n"
   ]
  },
  {
   "cell_type": "code",
   "execution_count": 14,
   "id": "d58b2d5e",
   "metadata": {},
   "outputs": [
    {
     "name": "stdout",
     "output_type": "stream",
     "text": [
      "[0 1 2 3 4 5 6 7]\n"
     ]
    }
   ],
   "source": [
    "# 3차원 array를 1차원으로 변한\n",
    "array1d = array3d.reshape(-1,)\n",
    "print(array1d)"
   ]
  },
  {
   "cell_type": "markdown",
   "id": "3dfaf7cc",
   "metadata": {},
   "source": [
    "### 넘파이 ndarray의 데이터 세트 선택하기 - indexing\n",
    "+ 단일 인덱싱."
   ]
  },
  {
   "cell_type": "code",
   "execution_count": 15,
   "id": "88a5441d",
   "metadata": {},
   "outputs": [
    {
     "name": "stdout",
     "output_type": "stream",
     "text": [
      "array1: [1 2 3 4 5 6 7 8 9]\n",
      "value : 3\n",
      "<class 'numpy.int64'>\n"
     ]
    }
   ],
   "source": [
    "array1 = np.arange(1,10)\n",
    "print('array1:',array1)\n",
    "# index는 0 부터 시작하므로 array1[2]는 3번째 index 위치의 데이터 값을 의미\n",
    "value = array1[2]\n",
    "print('value :' , value)\n",
    "print(type(value))"
   ]
  },
  {
   "cell_type": "code",
   "execution_count": 16,
   "id": "6f927f38",
   "metadata": {},
   "outputs": [
    {
     "name": "stdout",
     "output_type": "stream",
     "text": [
      "맨 뒤의 값 :  9 , 맨 뒤에서 두번째 값 :  8\n"
     ]
    }
   ],
   "source": [
    "print('맨 뒤의 값 : ',array1[-1],', 맨 뒤에서 두번째 값 : ',array1[-2])"
   ]
  },
  {
   "cell_type": "code",
   "execution_count": 17,
   "id": "d8bc001d",
   "metadata": {},
   "outputs": [
    {
     "name": "stdout",
     "output_type": "stream",
     "text": [
      "[9 2 3 4 5 6 7 8 0]\n"
     ]
    }
   ],
   "source": [
    "array1[0] =9\n",
    "array1[8]=0\n",
    "print(array1)"
   ]
  },
  {
   "cell_type": "code",
   "execution_count": 18,
   "id": "fb5b1ffa",
   "metadata": {},
   "outputs": [
    {
     "name": "stdout",
     "output_type": "stream",
     "text": [
      "[[1 2 3]\n",
      " [4 5 6]\n",
      " [7 8 9]]\n",
      "(row=0,col=0) index 가리키는 값: 1\n",
      "(row=0,col=1) index 가리키는 값: 2\n",
      "(row=1,col=0) index 가리키는 값: 4\n",
      "(row=2,col=2) index 가리키는 값: 9\n"
     ]
    }
   ],
   "source": [
    "array1d = np.arange(1,10)\n",
    "array2d = array1d.reshape(3,3)\n",
    "print(array2d)\n",
    "\n",
    "print('(row=0,col=0) index 가리키는 값:', array2d[0,0] )\n",
    "print('(row=0,col=1) index 가리키는 값:', array2d[0,1] )\n",
    "print('(row=1,col=0) index 가리키는 값:', array2d[1,0] )\n",
    "print('(row=2,col=2) index 가리키는 값:', array2d[2,2] )"
   ]
  },
  {
   "cell_type": "markdown",
   "id": "1b2e938e",
   "metadata": {},
   "source": [
    "+ 슬라이싱 인덱싱"
   ]
  },
  {
   "cell_type": "code",
   "execution_count": 19,
   "id": "c65fe4cf",
   "metadata": {},
   "outputs": [
    {
     "name": "stdout",
     "output_type": "stream",
     "text": [
      "[1 2 3 4 5 6 7 8 9]\n",
      "[1 2 3]\n",
      "<class 'numpy.ndarray'>\n"
     ]
    }
   ],
   "source": [
    "array1 = np.arange(1,10)\n",
    "print(array1)\n",
    "array3 = array1[0:3]\n",
    "print(array3)\n",
    "print(type(array3))"
   ]
  },
  {
   "cell_type": "code",
   "execution_count": 20,
   "id": "80340630",
   "metadata": {},
   "outputs": [
    {
     "name": "stdout",
     "output_type": "stream",
     "text": [
      "[1 2 3]\n",
      "[4 5 6 7 8 9]\n",
      "[1 2 3 4 5 6 7 8 9]\n"
     ]
    }
   ],
   "source": [
    "array1 = np.arange(1,10)\n",
    "# 위치 인덱스 0~2까지 추출\n",
    "array4 = array1[:3]\n",
    "print(array4)\n",
    "#위치 인덱스 3부터 마지막 까지 추출\n",
    "array5 = array1[3:]\n",
    "print(array5)\n",
    "#위치 인덱스로 전체 데이터 추출\n",
    "array6 = array1[:]\n",
    "print(array6)"
   ]
  },
  {
   "cell_type": "code",
   "execution_count": 21,
   "id": "4ee94595",
   "metadata": {},
   "outputs": [
    {
     "name": "stdout",
     "output_type": "stream",
     "text": [
      "array2d:\n",
      " [[1 2 3]\n",
      " [4 5 6]\n",
      " [7 8 9]]\n",
      "array2d[0:2, 0:2] \n",
      " [[1 2]\n",
      " [4 5]]\n",
      "array2d[1:3, 0:3] \n",
      " [[4 5 6]\n",
      " [7 8 9]]\n",
      "array2d[1:3, :] \n",
      " [[4 5 6]\n",
      " [7 8 9]]\n",
      "array2d[:, :] \n",
      " [[1 2 3]\n",
      " [4 5 6]\n",
      " [7 8 9]]\n",
      "array2d[:2, 1:] \n",
      " [[2 3]\n",
      " [5 6]]\n",
      "array2d[:2, 0] \n",
      " [1 4]\n"
     ]
    }
   ],
   "source": [
    "array1d = np.arange(start=1, stop=10)\n",
    "array2d = array1d.reshape(3,3)\n",
    "print('array2d:\\n',array2d)\n",
    "\n",
    "print('array2d[0:2, 0:2] \\n', array2d[0:2,0:2]) # [[1,2],[4,5]]\n",
    "print('array2d[1:3, 0:3] \\n', array2d[1:3, 0:3]) # [[4,5,6],[7,8,9]]\n",
    "print('array2d[1:3, :] \\n', array2d[1:3, :]) #[[4,5,6],[7,8,9]]\n",
    "print('array2d[:, :] \\n', array2d[:, :])  # [[1,2,3],[4,5,6][7,8,9]]\n",
    "print('array2d[:2, 1:] \\n', array2d[:2, 1:]) # [[2,3],[5,6]]\n",
    "print('array2d[:2, 0] \\n', array2d[:2, 0]) # [1,4]"
   ]
  },
  {
   "cell_type": "code",
   "execution_count": 22,
   "id": "9589e70b",
   "metadata": {},
   "outputs": [
    {
     "name": "stdout",
     "output_type": "stream",
     "text": [
      "[1 2 3]\n",
      "[4 5 6]\n",
      "array2d[0] shape: (3,) array2d[1] shape: (3,)\n"
     ]
    }
   ],
   "source": [
    "print(array2d[0])\n",
    "print(array2d[1])\n",
    "print('array2d[0] shape:', array2d[0].shape, 'array2d[1] shape:', array2d[1].shape )"
   ]
  },
  {
   "cell_type": "markdown",
   "id": "b49e623c",
   "metadata": {},
   "source": [
    "+ 팬시 인덱싱"
   ]
  },
  {
   "cell_type": "code",
   "execution_count": 23,
   "id": "d24d4737",
   "metadata": {},
   "outputs": [
    {
     "name": "stdout",
     "output_type": "stream",
     "text": [
      "[[1 2 3]\n",
      " [4 5 6]\n",
      " [7 8 9]]\n",
      "array2d[[0,1], 2] =>  [3, 6]\n",
      "array2d[[0,1], 0:2] =>  [[1, 2], [4, 5]]\n",
      "array2d[[0,1]] =>  [[1, 2, 3], [4, 5, 6]]\n"
     ]
    }
   ],
   "source": [
    "array1d = np.arange(start=1, stop=10)\n",
    "array2d = array1d.reshape(3,3)\n",
    "print(array2d)\n",
    "\n",
    "array3 = array2d[[0,1], 2]\n",
    "print('array2d[[0,1], 2] => ',array3.tolist()) # [3,6]\n",
    "\n",
    "array4 = array2d[[0,1], 0:2]\n",
    "print('array2d[[0,1], 0:2] => ',array4.tolist()) # [[1,2],[4,5]]\n",
    "\n",
    "array5 = array2d[[0,1]]\n",
    "print('array2d[[0,1]] => ',array5.tolist()) # [[1,2,3],[4,5,6]]"
   ]
  },
  {
   "cell_type": "markdown",
   "id": "ed2b25c2",
   "metadata": {},
   "source": [
    "+ 불린 인덱싱"
   ]
  },
  {
   "cell_type": "code",
   "execution_count": 24,
   "id": "63b31a60",
   "metadata": {},
   "outputs": [
    {
     "name": "stdout",
     "output_type": "stream",
     "text": [
      "[1 2 3 4 5 6 7 8 9]\n",
      "[6 7 8 9]\n"
     ]
    }
   ],
   "source": [
    "array1d = np.arange(1,10)\n",
    "print(array1d)\n",
    "# [ ]안에 array1d >5 Boolen indexing을 적용\n",
    "array3 = array1d[array1d>5]\n",
    "print(array3)"
   ]
  },
  {
   "cell_type": "code",
   "execution_count": 25,
   "id": "16170a7e",
   "metadata": {},
   "outputs": [
    {
     "data": {
      "text/plain": [
       "array([False, False, False, False, False,  True,  True,  True,  True])"
      ]
     },
     "execution_count": 25,
     "metadata": {},
     "output_type": "execute_result"
    }
   ],
   "source": [
    "array1d >5"
   ]
  },
  {
   "cell_type": "code",
   "execution_count": 26,
   "id": "d48e5318",
   "metadata": {},
   "outputs": [
    {
     "name": "stdout",
     "output_type": "stream",
     "text": [
      "[False False False False False  True  True  True  True] <class 'numpy.ndarray'> (9,)\n"
     ]
    }
   ],
   "source": [
    "val = array1d > 5 \n",
    "print(val,type(val),val.shape)"
   ]
  },
  {
   "cell_type": "code",
   "execution_count": 27,
   "id": "b8a292fb",
   "metadata": {},
   "outputs": [
    {
     "name": "stdout",
     "output_type": "stream",
     "text": [
      "불린 인덱스로 필터링 결과 :  [6 7 8 9]\n"
     ]
    }
   ],
   "source": [
    "boolean_indexes = np.array([False, False, False,  False, False, True,  True,  True,  True] )\n",
    "array3 = array1d[boolean_indexes]\n",
    "print('불린 인덱스로 필터링 결과 : ',array3)"
   ]
  },
  {
   "cell_type": "code",
   "execution_count": 28,
   "id": "78e6fe39",
   "metadata": {},
   "outputs": [
    {
     "name": "stdout",
     "output_type": "stream",
     "text": [
      "[6 7 8 9]\n"
     ]
    }
   ],
   "source": [
    "array1d = np.arange(start=1, stop=10)\n",
    "target = []\n",
    "#불린 인덱싱을 적용하지 않았을 경우 \n",
    "for i in range(0, 9):\n",
    "    if array1d[i] > 5:\n",
    "        target.append(array1d[i])\n",
    "\n",
    "array_selected = np.array(target)\n",
    "print(array_selected)"
   ]
  },
  {
   "cell_type": "code",
   "execution_count": 29,
   "id": "372386e2",
   "metadata": {},
   "outputs": [
    {
     "name": "stdout",
     "output_type": "stream",
     "text": [
      "일반 인덱스로 필터링 결과 : [6 7 8 9]\n"
     ]
    }
   ],
   "source": [
    "indexes = np.array([5,6,7,8])\n",
    "array4 = array1d[ indexes ]\n",
    "print('일반 인덱스로 필터링 결과 :',array4)"
   ]
  },
  {
   "cell_type": "markdown",
   "id": "058cf942",
   "metadata": {},
   "source": [
    "### 행렬의 정렬 -sort() 와 argsort()\n",
    "+ 행렬 정렬"
   ]
  },
  {
   "cell_type": "code",
   "execution_count": 30,
   "id": "2558edee",
   "metadata": {},
   "outputs": [
    {
     "name": "stdout",
     "output_type": "stream",
     "text": [
      "[3 1 9 5]\n",
      "np.sort() 호출 후 반환된 정렬 배열 : [1 3 5 9]\n",
      "np.sort() 호출 후 원본 배열 :  [3 1 9 5]\n",
      "org_array.sort( ) 호출 후 반환된 배열: None\n",
      "org_array.sort( ) 호출 후 원본 배열: [1 3 5 9]\n"
     ]
    }
   ],
   "source": [
    "org_array = np.array([3,1,9,5])\n",
    "print(org_array)\n",
    "# np.sort()로 정렬\n",
    "sort_array = np.sort(org_array)\n",
    "print('np.sort() 호출 후 반환된 정렬 배열 :',sort_array)\n",
    "print('np.sort() 호출 후 원본 배열 : ',org_array)\n",
    "\n",
    "# ndarray.sort()로 정렬 \n",
    "sort_array2 = org_array.sort()\n",
    "print('org_array.sort( ) 호출 후 반환된 배열:', sort_array2)\n",
    "print('org_array.sort( ) 호출 후 원본 배열:', org_array)"
   ]
  },
  {
   "cell_type": "code",
   "execution_count": 31,
   "id": "a6afb9fa",
   "metadata": {},
   "outputs": [
    {
     "name": "stdout",
     "output_type": "stream",
     "text": [
      "내림차순으로 정렬 :  [9 5 3 1]\n"
     ]
    }
   ],
   "source": [
    "sort_array1_desc = np.sort(org_array)[::-1]\n",
    "print('내림차순으로 정렬 : ',sort_array1_desc)"
   ]
  },
  {
   "cell_type": "code",
   "execution_count": 32,
   "id": "661e925d",
   "metadata": {},
   "outputs": [
    {
     "name": "stdout",
     "output_type": "stream",
     "text": [
      "로우 방향으로 정렬 : \n",
      " [[ 7  1]\n",
      " [ 8 12]]\n",
      "컬럼 방향으로 정렬 : \n",
      " [[ 8 12]\n",
      " [ 1  7]]\n"
     ]
    }
   ],
   "source": [
    "array2d = np.array([[8,12],[7,1]])\n",
    "\n",
    "sort_array2_axis0 = np.sort(array2d,axis=0)\n",
    "print('로우 방향으로 정렬 : \\n',sort_array2_axis0)\n",
    "\n",
    "sort_array2_axis1 = np.sort(array2d,axis=1)\n",
    "print('컬럼 방향으로 정렬 : \\n',sort_array2_axis1)"
   ]
  },
  {
   "cell_type": "markdown",
   "id": "91c4e54c",
   "metadata": {},
   "source": [
    "+ 정렬 행렬의 인덱스 반환"
   ]
  },
  {
   "cell_type": "code",
   "execution_count": 33,
   "id": "6f684517",
   "metadata": {},
   "outputs": [
    {
     "name": "stdout",
     "output_type": "stream",
     "text": [
      "<class 'numpy.ndarray'>\n",
      "행렬 정렬시 원본 배열의 인덱스 [1 0 3 2]\n"
     ]
    }
   ],
   "source": [
    "org_array = np.array([ 3, 1, 9, 5]) \n",
    "sort_indices = np.argsort(org_array)\n",
    "print(type(sort_indices))\n",
    "\n",
    "print('행렬 정렬시 원본 배열의 인덱스',sort_indices)"
   ]
  },
  {
   "cell_type": "code",
   "execution_count": 34,
   "id": "4e3ff8dd",
   "metadata": {},
   "outputs": [
    {
     "name": "stdout",
     "output_type": "stream",
     "text": [
      "행렬 내림차순 정렬 시 원본 배열의 인데스 :  [2 3 0 1]\n"
     ]
    }
   ],
   "source": [
    "org_array = np.array([ 3, 1, 9, 5]) \n",
    "sort_indices_desc = np.argsort(org_array)[::-1]\n",
    "print('행렬 내림차순 정렬 시 원본 배열의 인데스 : ',sort_indices_desc)"
   ]
  },
  {
   "cell_type": "code",
   "execution_count": 35,
   "id": "9de8346b",
   "metadata": {},
   "outputs": [
    {
     "name": "stdout",
     "output_type": "stream",
     "text": [
      "성적 오름차순 정렬 시 score_array의 인덱스 :  [0 2 4 1 3]\n",
      "성적 오름차순으로 name_array의 이름 출력 :  ['John' 'Sarah' 'Samuel' 'Mike' 'Kate']\n"
     ]
    }
   ],
   "source": [
    "# 사용 예시\n",
    "name_array = np.array(['John','Mike','Sarah','Kate','Samuel'])\n",
    "score_array = np.array([78,95,84,98,88])\n",
    "\n",
    "sort_indices_asc = np.argsort(score_array)\n",
    "print('성적 오름차순 정렬 시 score_array의 인덱스 : ',sort_indices_asc)\n",
    "print('성적 오름차순으로 name_array의 이름 출력 : ',name_array[sort_indices_asc])"
   ]
  },
  {
   "cell_type": "markdown",
   "id": "b98f04bd",
   "metadata": {},
   "source": [
    "### 선형대수 연산 - 행렬 내적과 전치 행렬 구하기\n",
    "+ 행렬 내적"
   ]
  },
  {
   "cell_type": "code",
   "execution_count": 36,
   "id": "78c1458e",
   "metadata": {},
   "outputs": [
    {
     "name": "stdout",
     "output_type": "stream",
     "text": [
      "행렬 내적 결과 \n",
      " [[ 58  64]\n",
      " [139 154]]\n"
     ]
    }
   ],
   "source": [
    "\n",
    "A = np.array([[1,2,3],\n",
    "            [4,5,6]])\n",
    "B = np.array([[7,8],\n",
    "            [9,10],\n",
    "             [11,12]])\n",
    "dot_product = np.dot(A,B)\n",
    "\n",
    "print('행렬 내적 결과 \\n', dot_product)"
   ]
  },
  {
   "cell_type": "markdown",
   "id": "26b86568",
   "metadata": {},
   "source": [
    "+ 전치 행렬 "
   ]
  },
  {
   "cell_type": "code",
   "execution_count": 37,
   "id": "b3b0adf0",
   "metadata": {},
   "outputs": [
    {
     "name": "stdout",
     "output_type": "stream",
     "text": [
      "A의 전치 행렬 : \n",
      " [[1 3]\n",
      " [2 4]]\n"
     ]
    }
   ],
   "source": [
    "A = np.array([[1,2],\n",
    "            [3,4]])\n",
    "transpose_mat = np.transpose(A)\n",
    "print('A의 전치 행렬 : \\n',transpose_mat)"
   ]
  },
  {
   "cell_type": "code",
   "execution_count": null,
   "id": "2fd0156b",
   "metadata": {},
   "outputs": [],
   "source": []
  }
 ],
 "metadata": {
  "kernelspec": {
   "display_name": "Python 3 (ipykernel)",
   "language": "python",
   "name": "python3"
  },
  "language_info": {
   "codemirror_mode": {
    "name": "ipython",
    "version": 3
   },
   "file_extension": ".py",
   "mimetype": "text/x-python",
   "name": "python",
   "nbconvert_exporter": "python",
   "pygments_lexer": "ipython3",
   "version": "3.11.0"
  }
 },
 "nbformat": 4,
 "nbformat_minor": 5
}
